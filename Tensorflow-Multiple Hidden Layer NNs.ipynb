{
 "cells": [
  {
   "cell_type": "markdown",
   "metadata": {},
   "source": [
    "## TensorFlow: Single & Multiple Hidden Layer NNs"
   ]
  },
  {
   "cell_type": "code",
   "execution_count": 1,
   "metadata": {},
   "outputs": [
    {
     "name": "stderr",
     "output_type": "stream",
     "text": [
      "D:\\Users\\snandan.ORADEV\\AppData\\Local\\Continuum\\anaconda3\\lib\\site-packages\\h5py\\__init__.py:36: FutureWarning: Conversion of the second argument of issubdtype from `float` to `np.floating` is deprecated. In future, it will be treated as `np.float64 == np.dtype(float).type`.\n",
      "  from ._conv import register_converters as _register_converters\n"
     ]
    }
   ],
   "source": [
    "import tensorflow as tf\n",
    "import numpy as np"
   ]
  },
  {
   "cell_type": "markdown",
   "metadata": {},
   "source": [
    "### Create Toy Dataset"
   ]
  },
  {
   "cell_type": "code",
   "execution_count": 2,
   "metadata": {},
   "outputs": [],
   "source": [
    "np.random.seed(123)\n",
    "\n",
    "Xtr = np.random.normal(0, 5, (2500, 3))\n",
    "Xts = np.random.normal(0, 5, (2500, 3))\n",
    "\n",
    "def f(x):\n",
    "    y = (x[:, 1] + 2*x[:, 2] - x[:, 1]  # linear with no interactions\n",
    "        + x[:, 0]*x[:, 1] + x[:, 0]*x[:, 1]*x[:, 2]  # linear with interactions\n",
    "#          + x[:, 1]*(x[:, 2]**2)  # quadratic with interactions\n",
    "        )\n",
    "    return y.reshape(-1,1)\n",
    "\n",
    "ytr = f(Xtr)\n",
    "yts = f(Xts)"
   ]
  },
  {
   "cell_type": "markdown",
   "metadata": {},
   "source": [
    "### Create Model"
   ]
  },
  {
   "cell_type": "code",
   "execution_count": 3,
   "metadata": {},
   "outputs": [
    {
     "name": "stdout",
     "output_type": "stream",
     "text": [
      "Epoch 1, loss: 115.923\n",
      "Epoch 10, loss: 109.573\n",
      "Epoch 20, loss: 94.345\n",
      "Epoch 30, loss: 83.598\n",
      "Epoch 40, loss: 74.522\n",
      "Epoch 50, loss: 67.268\n",
      "Epoch 60, loss: 61.372\n",
      "Epoch 70, loss: 55.840\n",
      "Epoch 80, loss: 50.950\n",
      "Epoch 90, loss: 47.101\n",
      "Epoch 100, loss: 44.124\n",
      "Epoch 110, loss: 41.542\n",
      "Epoch 120, loss: 40.082\n",
      "Epoch 130, loss: 37.526\n",
      "Epoch 140, loss: 36.018\n",
      "Epoch 150, loss: 34.486\n",
      "Epoch 160, loss: 32.899\n",
      "Epoch 170, loss: 31.500\n",
      "Epoch 180, loss: 30.220\n",
      "Epoch 190, loss: 29.144\n",
      "Epoch 200, loss: 28.150\n",
      "Epoch 210, loss: 27.063\n",
      "Epoch 220, loss: 26.215\n",
      "Epoch 230, loss: 25.122\n",
      "Epoch 240, loss: 25.485\n",
      "Epoch 250, loss: 23.692\n",
      "Epoch 260, loss: 23.205\n",
      "Epoch 270, loss: 22.628\n",
      "Epoch 280, loss: 22.550\n",
      "Epoch 290, loss: 22.927\n",
      "Epoch 300, loss: 21.990\n",
      "----------\n",
      "Test loss: 35.084\n"
     ]
    }
   ],
   "source": [
    "# hyper parameters\n",
    "learning_rate = 0.01\n",
    "n_input = 3\n",
    "n_nodes_1 = 32\n",
    "n_nodes_2 = 32\n",
    "n_output = 1\n",
    "batch_size = 100\n",
    "\n",
    "# create placeholders for graph input\n",
    "# the 'None' allows us to pass different batch sizes\n",
    "X = tf.placeholder('float32', [None, n_input])\n",
    "Y = tf.placeholder('float32', [None, n_output])\n",
    "\n",
    "\n",
    "def create_weights(shape):\n",
    "    # create layer weights as a variable\n",
    "    # use random_normal initializer and keep the values small by setting\n",
    "    # the standard devaition to 0.1 (default is 1.0)\n",
    "    initializer=tf.random_normal(shape, stddev=0.1)\n",
    "    W = tf.Variable(initializer)\n",
    "    return W\n",
    "    \n",
    "def create_biases(shape):\n",
    "    # create the bias parameter as varaible\n",
    "    # should be rank 1 tensor with shape same as n_nodes of layer\n",
    "    initializer=tf.random_normal(shape)\n",
    "    b = tf.Variable(initializer)\n",
    "    return b\n",
    "\n",
    "\n",
    "\n",
    "# assign the weights we want for this model\n",
    "weights = {'w1': create_weights([n_input, n_nodes_1]),  # first and only hidden layer weights\n",
    "           'w2': create_weights([n_nodes_1, n_nodes_2]),\n",
    "           'w_out': create_weights([n_nodes_2, n_output])}  # output layer weights\n",
    "\n",
    "# assign biases\n",
    "biases = {'b1': create_biases([n_nodes_1]),\n",
    "          'b2': create_biases([n_nodes_2]),\n",
    "          'b_out': create_biases([n_output])}\n",
    "\n",
    "\n",
    "\n",
    "# Define the network forward propogation\n",
    "\n",
    "# hidden layer\n",
    "z1 = tf.add(tf.matmul(X, weights['w1']), biases['b1'])  # argument for the activation function\n",
    "a1 = tf.nn.sigmoid(z1)  # the activation function\n",
    "\n",
    "z2 = tf.add(tf.matmul(a1, weights['w2']), biases['b2'])  # argument for the activation function\n",
    "a2 = tf.nn.sigmoid(z2)  # the activation function\n",
    "\n",
    "# output layer\n",
    "logits = tf.add(tf.matmul(a2, weights['w_out']), biases['b_out'])  # operates on previous layer outputs\n",
    "# yhat = tf.nn.softmax(logits)  # gives class probabilities\n",
    "\n",
    "\n",
    "# Back propogation\n",
    "# define loss function\n",
    "# RMSE\n",
    "loss = tf.sqrt(tf.reduce_mean(tf.square(Y-logits)))\n",
    "\n",
    "# define optimizer\n",
    "# optimize = tf.train.GradientDescentOptimizer(learning_rate).minimize(loss)\n",
    "optimize = tf.train.RMSPropOptimizer(learning_rate).minimize(loss)\n",
    "\n",
    "\n",
    "# create session and initialize variables\n",
    "init = tf.global_variables_initializer()\n",
    "sess = tf.Session()\n",
    "sess.run(init)\n",
    "\n",
    "\n",
    "# train over 300 epochs\n",
    "n_epochs = 300\n",
    "for epoch in range(1, n_epochs + 1):\n",
    "    # train on one batch at a time\n",
    "    for i in range(0, len(Xtr), batch_size):\n",
    "        sess.run(optimize, feed_dict={X: Xtr[i: i+batch_size],\n",
    "                                      Y: ytr[i: i+batch_size]})\n",
    "    \n",
    "    # compute training loss for printing progress\n",
    "    if (epoch%10 == 0) | (epoch == 1):\n",
    "        loss_tr = sess.run(loss, feed_dict={X: Xtr, Y: ytr})\n",
    "        print('Epoch {}, loss: {:.3f}'.format(epoch, loss_tr, 3))\n",
    "        \n",
    "\n",
    "# compute loss for test data\n",
    "loss_ts = sess.run(loss, feed_dict={X: Xts, Y: yts})\n",
    "print(10*'-')\n",
    "print('Test loss: {:.3f}'.format(np.round(loss_ts, 3)))"
   ]
  },
  {
   "cell_type": "code",
   "execution_count": 4,
   "metadata": {},
   "outputs": [
    {
     "data": {
      "text/plain": [
       "69.50444512983351"
      ]
     },
     "execution_count": 4,
     "metadata": {},
     "output_type": "execute_result"
    }
   ],
   "source": [
    "abs(yts).mean()"
   ]
  },
  {
   "cell_type": "code",
   "execution_count": 5,
   "metadata": {},
   "outputs": [
    {
     "data": {
      "text/plain": [
       "62.443766639095635"
      ]
     },
     "execution_count": 5,
     "metadata": {},
     "output_type": "execute_result"
    }
   ],
   "source": [
    "abs(ytr).mean()"
   ]
  },
  {
   "cell_type": "code",
   "execution_count": null,
   "metadata": {},
   "outputs": [],
   "source": []
  }
 ],
 "metadata": {
  "kernelspec": {
   "display_name": "Python 3",
   "language": "python",
   "name": "python3"
  },
  "language_info": {
   "codemirror_mode": {
    "name": "ipython",
    "version": 3
   },
   "file_extension": ".py",
   "mimetype": "text/x-python",
   "name": "python",
   "nbconvert_exporter": "python",
   "pygments_lexer": "ipython3",
   "version": "3.6.5"
  }
 },
 "nbformat": 4,
 "nbformat_minor": 2
}
