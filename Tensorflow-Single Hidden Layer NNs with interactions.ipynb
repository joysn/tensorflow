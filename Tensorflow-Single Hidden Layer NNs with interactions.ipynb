{
 "cells": [
  {
   "cell_type": "markdown",
   "metadata": {},
   "source": [
    "## TensorFlow: Single Hidden Layer NNs with Interactions"
   ]
  },
  {
   "cell_type": "code",
   "execution_count": 5,
   "metadata": {},
   "outputs": [],
   "source": [
    "import tensorflow as tf\n",
    "import numpy as np"
   ]
  },
  {
   "cell_type": "markdown",
   "metadata": {},
   "source": [
    "### Create Toy Dataset"
   ]
  },
  {
   "cell_type": "code",
   "execution_count": 6,
   "metadata": {},
   "outputs": [],
   "source": [
    "np.random.seed(123)\n",
    "\n",
    "Xtr = np.random.normal(0, 5, (2500, 3))\n",
    "Xts = np.random.normal(0, 5, (2500, 3))\n",
    "\n",
    "def f(x):\n",
    "    y = (x[:, 1] + 2*x[:, 2] - x[:, 0]  # linear with no interactions\n",
    "        + x[:, 0]*x[:, 1] + x[:, 0]*x[:, 1]*x[:, 2]  # linear with interactions\n",
    "#          + x[:, 1]*(x[:, 2]**2)  # quadratic with interactions\n",
    "        )\n",
    "    return y.reshape(-1,1)\n",
    "\n",
    "ytr = f(Xtr)\n",
    "yts = f(Xts)"
   ]
  },
  {
   "cell_type": "markdown",
   "metadata": {},
   "source": [
    "### Create Model"
   ]
  },
  {
   "cell_type": "code",
   "execution_count": 7,
   "metadata": {},
   "outputs": [
    {
     "name": "stdout",
     "output_type": "stream",
     "text": [
      "Epoch 1, loss: 116.054\n",
      "Epoch 10, loss: 112.855\n",
      "Epoch 20, loss: 110.045\n",
      "Epoch 30, loss: 108.159\n",
      "Epoch 40, loss: 106.599\n",
      "Epoch 50, loss: 105.201\n",
      "Epoch 60, loss: 103.916\n",
      "Epoch 70, loss: 102.705\n",
      "Epoch 80, loss: 101.545\n",
      "Epoch 90, loss: 100.458\n",
      "Epoch 100, loss: 99.429\n",
      "Epoch 110, loss: 98.434\n",
      "Epoch 120, loss: 97.519\n",
      "Epoch 130, loss: 96.657\n",
      "Epoch 140, loss: 95.786\n",
      "Epoch 150, loss: 94.996\n",
      "Epoch 160, loss: 94.242\n",
      "Epoch 170, loss: 93.524\n",
      "Epoch 180, loss: 92.833\n",
      "Epoch 190, loss: 92.109\n",
      "Epoch 200, loss: 91.410\n",
      "Epoch 210, loss: 90.715\n",
      "Epoch 220, loss: 90.064\n",
      "Epoch 230, loss: 89.451\n",
      "Epoch 240, loss: 88.866\n",
      "Epoch 250, loss: 88.304\n",
      "Epoch 260, loss: 87.761\n",
      "Epoch 270, loss: 87.237\n",
      "Epoch 280, loss: 86.728\n",
      "Epoch 290, loss: 86.235\n",
      "Epoch 300, loss: 85.759\n",
      "----------\n",
      "Test loss: 106.336\n"
     ]
    }
   ],
   "source": [
    "# hyper parameters\n",
    "learning_rate = 0.01\n",
    "n_input = 3\n",
    "n_nodes_1 = 32\n",
    "n_output = 1\n",
    "batch_size = 100\n",
    "\n",
    "# create placeholders for graph input\n",
    "# the 'None' allows us to pass different batch sizes\n",
    "X = tf.placeholder('float32', [None, n_input])\n",
    "Y = tf.placeholder('float32', [None, n_output])\n",
    "\n",
    "\n",
    "def create_weights(shape):\n",
    "    # create layer weights as a variable\n",
    "    # use random_normal initializer and keep the values small by setting\n",
    "    # the standard devaition to 0.1 (default is 1.0)\n",
    "    initializer=tf.random_normal(shape, stddev=0.1)\n",
    "    W = tf.Variable(initializer)\n",
    "    return W\n",
    "    \n",
    "def create_biases(shape):\n",
    "    # create the bias parameter as varaible\n",
    "    # should be rank 1 tensor with shape same as n_nodes of layer\n",
    "    initializer=tf.random_normal(shape)\n",
    "    b = tf.Variable(initializer)\n",
    "    return b\n",
    "\n",
    "\n",
    "\n",
    "# assign the weights we want for this model\n",
    "weights = {'w1': create_weights([n_input, n_nodes_1]),  # first and only hidden layer weights\n",
    "           'w_out': create_weights([n_nodes_1, n_output])}  # output layer weights\n",
    "\n",
    "# assign biases\n",
    "biases = {'b1': create_biases([n_nodes_1]),\n",
    "          'b_out': create_biases([n_output])}\n",
    "\n",
    "\n",
    "\n",
    "# Define the network forward propogation\n",
    "\n",
    "# hidden layer\n",
    "z1 = tf.add(tf.matmul(X, weights['w1']), biases['b1'])  # argument for the activation function\n",
    "a1 = tf.nn.sigmoid(z1)  # the activation function\n",
    "\n",
    "\n",
    "# output layer\n",
    "logits = tf.add(tf.matmul(a1, weights['w_out']), biases['b_out'])  # operates on previous layer outputs\n",
    "# yhat = tf.nn.softmax(logits)  # gives class probabilities\n",
    "\n",
    "\n",
    "# Back propogation\n",
    "# define loss function\n",
    "# RMSE\n",
    "loss = tf.sqrt(tf.reduce_mean(tf.square(Y-logits)))\n",
    "\n",
    "# define optimizer\n",
    "# optimize = tf.train.GradientDescentOptimizer(learning_rate).minimize(loss)\n",
    "optimize = tf.train.RMSPropOptimizer(learning_rate).minimize(loss)\n",
    "\n",
    "\n",
    "# create session and initialize variables\n",
    "init = tf.global_variables_initializer()\n",
    "sess = tf.Session()\n",
    "sess.run(init)\n",
    "\n",
    "\n",
    "# train over 300 epochs\n",
    "n_epochs = 300\n",
    "for epoch in range(1, n_epochs + 1):\n",
    "    # train on one batch at a time\n",
    "    for i in range(0, len(Xtr), batch_size):\n",
    "        sess.run(optimize, feed_dict={X: Xtr[i: i+batch_size],\n",
    "                                      Y: ytr[i: i+batch_size]})\n",
    "    \n",
    "    # compute training loss for printing progress\n",
    "    if (epoch%10 == 0) | (epoch == 1):\n",
    "        loss_tr = sess.run(loss, feed_dict={X: Xtr, Y: ytr})\n",
    "        print('Epoch {}, loss: {:.3f}'.format(epoch, loss_tr, 3))\n",
    "        \n",
    "\n",
    "# compute loss for test data\n",
    "loss_ts = sess.run(loss, feed_dict={X: Xts, Y: yts})\n",
    "print(10*'-')\n",
    "print('Test loss: {:.3f}'.format(np.round(loss_ts, 3)))"
   ]
  },
  {
   "cell_type": "code",
   "execution_count": 8,
   "metadata": {},
   "outputs": [
    {
     "data": {
      "text/plain": [
       "69.96254122169644"
      ]
     },
     "execution_count": 8,
     "metadata": {},
     "output_type": "execute_result"
    }
   ],
   "source": [
    "abs(yts).mean()"
   ]
  },
  {
   "cell_type": "code",
   "execution_count": null,
   "metadata": {},
   "outputs": [],
   "source": []
  },
  {
   "cell_type": "code",
   "execution_count": null,
   "metadata": {},
   "outputs": [],
   "source": []
  }
 ],
 "metadata": {
  "kernelspec": {
   "display_name": "Python 3",
   "language": "python",
   "name": "python3"
  },
  "language_info": {
   "codemirror_mode": {
    "name": "ipython",
    "version": 3
   },
   "file_extension": ".py",
   "mimetype": "text/x-python",
   "name": "python",
   "nbconvert_exporter": "python",
   "pygments_lexer": "ipython3",
   "version": "3.6.5"
  }
 },
 "nbformat": 4,
 "nbformat_minor": 2
}
